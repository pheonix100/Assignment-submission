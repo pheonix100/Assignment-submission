{
 "cells": [
  {
   "cell_type": "code",
   "execution_count": 2,
   "metadata": {},
   "outputs": [],
   "source": [
    "import numpy as np"
   ]
  },
  {
   "cell_type": "markdown",
   "metadata": {},
   "source": [
    "Questions 1:\n",
    "\n",
    "Create a numpy array starting from 2 till 50 with a stepsize of 3."
   ]
  },
  {
   "cell_type": "code",
   "execution_count": 7,
   "metadata": {},
   "outputs": [
    {
     "data": {
      "text/plain": [
       "array([ 2,  5,  8, 11, 14, 17, 20, 23, 26, 29, 32, 35, 38, 41, 44, 47])"
      ]
     },
     "execution_count": 7,
     "metadata": {},
     "output_type": "execute_result"
    }
   ],
   "source": [
    "a = np.arange(2,50,3)\n",
    "a"
   ]
  },
  {
   "cell_type": "markdown",
   "metadata": {},
   "source": [
    "Questions 2:\n",
    "\n",
    "Accept two lists of 5 elements each from the user.Convert them to numpy arrays. Concatenate these arrays and print it. Also sort these arrays and print it."
   ]
  },
  {
   "cell_type": "code",
   "execution_count": 24,
   "metadata": {},
   "outputs": [
    {
     "name": "stdout",
     "output_type": "stream",
     "text": [
      "99\n",
      "89\n",
      "1\n",
      "23\n",
      "78\n",
      "97\n",
      "54\n",
      "3\n",
      "45\n",
      "69\n",
      "[99, 89, 1, 23, 78]\n",
      "\n",
      "[97, 54, 3, 45, 69]\n"
     ]
    }
   ],
   "source": [
    "# Accepting two lists from user\n",
    "l1 =[]\n",
    "l2 =[]\n",
    "for i in range(0,5):\n",
    "    item = int(input())\n",
    "    l1.append(item)\n",
    "for i in range(0,5):\n",
    "    item = int(input())\n",
    "    l2.append(item)    \n",
    "    \n",
    "print(l1)    \n",
    "print()\n",
    "print(l2)"
   ]
  },
  {
   "cell_type": "code",
   "execution_count": 25,
   "metadata": {},
   "outputs": [
    {
     "name": "stdout",
     "output_type": "stream",
     "text": [
      "[99 89  1 23 78 97 54  3 45 69]\n"
     ]
    }
   ],
   "source": [
    "# Converting list into numpy array and Array concatenation\n",
    "arr1 = np.array(l1)\n",
    "arr2 = np.array(l2)\n",
    "appended = np.concatenate([arr1,arr2])\n",
    "print(appended)"
   ]
  },
  {
   "cell_type": "code",
   "execution_count": 27,
   "metadata": {},
   "outputs": [
    {
     "name": "stdout",
     "output_type": "stream",
     "text": [
      "[ 1  3 23 45 54 69 78 89 97 99]\n"
     ]
    }
   ],
   "source": [
    "# sorted array\n",
    "print(np.sort(appended))"
   ]
  },
  {
   "cell_type": "markdown",
   "metadata": {},
   "source": [
    "Questions 3:\n",
    "    \n",
    "Write a code snippet to find the dimensions of a ndarray and its size."
   ]
  },
  {
   "cell_type": "code",
   "execution_count": 29,
   "metadata": {},
   "outputs": [
    {
     "name": "stdout",
     "output_type": "stream",
     "text": [
      "No. of dimensions:  2\n",
      "Size of array:  6\n"
     ]
    }
   ],
   "source": [
    "arr = np.array( [[ 1, 2, 3],[ 4, 2, 5]] )\n",
    " \n",
    "# Printing array dimensions\n",
    "print(\"No. of dimensions: \", arr.ndim)\n",
    " \n",
    "# Printing size of array\n",
    "print(\"Size of array: \", arr.size)"
   ]
  },
  {
   "cell_type": "markdown",
   "metadata": {},
   "source": [
    "Questions 4:\n",
    "\n",
    "How to convert a 1D array into a 2D array? Demonstrate with the help of a code snippetHint: np.newaxis , np.expand_dims"
   ]
  },
  {
   "cell_type": "code",
   "execution_count": 49,
   "metadata": {},
   "outputs": [
    {
     "name": "stdout",
     "output_type": "stream",
     "text": [
      "[[1]\n",
      " [2]\n",
      " [3]\n",
      " [4]\n",
      " [5]]\n",
      "<class 'numpy.ndarray'>\n"
     ]
    },
    {
     "data": {
      "text/plain": [
       "(5, 1)"
      ]
     },
     "execution_count": 49,
     "metadata": {},
     "output_type": "execute_result"
    }
   ],
   "source": [
    "# using np.newaxis\n",
    "arr1d = np.array([1,2,3,4,5])\n",
    "arr2d = arr1d[:, np.newaxis]\n",
    "print(arr2d)\n",
    "print(type(arr2d))\n",
    "arr2d.shape"
   ]
  },
  {
   "cell_type": "code",
   "execution_count": 72,
   "metadata": {},
   "outputs": [
    {
     "data": {
      "text/plain": [
       "(2,)"
      ]
     },
     "execution_count": 72,
     "metadata": {},
     "output_type": "execute_result"
    }
   ],
   "source": [
    "# using np.expand_dims\n",
    "arr1 = np.array([4, 5])\n",
    "arr1.shape\n"
   ]
  },
  {
   "cell_type": "code",
   "execution_count": 73,
   "metadata": {},
   "outputs": [
    {
     "name": "stdout",
     "output_type": "stream",
     "text": [
      "[[4 5]]\n"
     ]
    },
    {
     "data": {
      "text/plain": [
       "(1, 2)"
      ]
     },
     "execution_count": 73,
     "metadata": {},
     "output_type": "execute_result"
    }
   ],
   "source": [
    "# using np.expand_dims (continuation..)\n",
    "arr2 = np.expand_dims(arr1, axis=0)\n",
    "print(arr2)\n",
    "arr2.shape\n"
   ]
  },
  {
   "cell_type": "markdown",
   "metadata": {},
   "source": [
    "Questions 5:\n",
    "\n",
    "Consider two square numpy arrays. Stack them vertically and horizontally.Hint: Use vstack(), hstack()"
   ]
  },
  {
   "cell_type": "code",
   "execution_count": 59,
   "metadata": {},
   "outputs": [
    {
     "name": "stdout",
     "output_type": "stream",
     "text": [
      "Horizontal Stack: [[ 1  2  3 10 11 12]\n",
      " [ 4  5  6 13 14 15]\n",
      " [ 7  8  9 16 17 18]]\n",
      "Vertical stack: [[ 1  2  3]\n",
      " [ 4  5  6]\n",
      " [ 7  8  9]\n",
      " [10 11 12]\n",
      " [13 14 15]\n",
      " [16 17 18]]\n"
     ]
    }
   ],
   "source": [
    "arr1 = np.array([[1,2,3],\n",
    "                 [4,5,6],\n",
    "                 [7,8,9]])\n",
    "arr2 = np.array([[10,11,12],\n",
    "                 [13,14,15],\n",
    "                 [16,17,18]])\n",
    "\n",
    "# Horitzontal Stack\n",
    "print('Horizontal Stack:', np.hstack((arr1, arr2)))\n",
    "\n",
    "# Vertical Stack\n",
    "print('Vertical stack:', np.vstack((arr1, arr2)))\n"
   ]
  },
  {
   "cell_type": "markdown",
   "metadata": {},
   "source": [
    "Questions 6:\n",
    "\n",
    "How to get unique items and counts of unique items?"
   ]
  },
  {
   "cell_type": "code",
   "execution_count": 57,
   "metadata": {},
   "outputs": [
    {
     "name": "stdout",
     "output_type": "stream",
     "text": [
      "Initial array:\n",
      "[10 10 20 10 20 20 20 30 30 50 40 40]\n",
      "Unique items and count of unique items:\n",
      "[[10 20 30 40 50]\n",
      " [ 3  4  2  2  1]]\n"
     ]
    }
   ],
   "source": [
    "arr = np.array( [10,10,20,10,20,20,20,30, 30,50,40,40] )\n",
    "print(\"Initial array:\")\n",
    "print(arr)\n",
    "unique_items, counts_items = np.unique(arr, return_counts=True)\n",
    "print(\"Unique items and count of unique items:\")\n",
    "print(np.asarray((unique_items, counts_items)))"
   ]
  }
 ],
 "metadata": {
  "kernelspec": {
   "display_name": "Python 3",
   "language": "python",
   "name": "python3"
  },
  "language_info": {
   "codemirror_mode": {
    "name": "ipython",
    "version": 3
   },
   "file_extension": ".py",
   "mimetype": "text/x-python",
   "name": "python",
   "nbconvert_exporter": "python",
   "pygments_lexer": "ipython3",
   "version": "3.7.6"
  }
 },
 "nbformat": 4,
 "nbformat_minor": 4
}
